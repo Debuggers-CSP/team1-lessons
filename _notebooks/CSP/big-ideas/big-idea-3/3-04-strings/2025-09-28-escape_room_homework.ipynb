{
 "cells": [
  {
   "cell_type": "code",
   "execution_count": 2,
   "id": "9087d7af",
   "metadata": {},
   "outputs": [
    {
     "name": "stdout",
     "output_type": "stream",
     "text": [
      "🎯 JavaScript String Basics - Free-Response Quiz\n",
      "Type your answers below and click Check Answers.\n",
      "\n"
     ]
    },
    {
     "data": {
      "application/vnd.jupyter.widget-view+json": {
       "model_id": "46d041e7850445dbb0f894f9b71f7644",
       "version_major": 2,
       "version_minor": 0
      },
      "text/plain": [
       "HTML(value='<b>1. In JavaScript, which property is used to get the length of a string?</b><br><i>Answer with t…"
      ]
     },
     "metadata": {},
     "output_type": "display_data"
    },
    {
     "data": {
      "application/vnd.jupyter.widget-view+json": {
       "model_id": "b023fa77012c4bdfb09642041f0e77c5",
       "version_major": 2,
       "version_minor": 0
      },
      "text/plain": [
       "Text(value='', placeholder='e.g., length or string.length')"
      ]
     },
     "metadata": {},
     "output_type": "display_data"
    },
    {
     "data": {
      "application/vnd.jupyter.widget-view+json": {
       "model_id": "e4f8feeb0b6c450cac956ba31347291c",
       "version_major": 2,
       "version_minor": 0
      },
      "text/plain": [
       "HTML(value='<b>2. Which expression can concatenate two strings?</b><br><i>Type the expression or operator (e.g…"
      ]
     },
     "metadata": {},
     "output_type": "display_data"
    },
    {
     "data": {
      "application/vnd.jupyter.widget-view+json": {
       "model_id": "03d8deede23e44daad09b36e98846f0e",
       "version_major": 2,
       "version_minor": 0
      },
      "text/plain": [
       "Text(value='', placeholder='e.g., \"Hello\" + \"World\" or +')"
      ]
     },
     "metadata": {},
     "output_type": "display_data"
    },
    {
     "data": {
      "application/vnd.jupyter.widget-view+json": {
       "model_id": "11d5d4b2fd5b49448c90dab45f86a225",
       "version_major": 2,
       "version_minor": 0
      },
      "text/plain": [
       "HTML(value=\"<b>3. What does 'JavaScript'.substring(0, 4) return?</b><br><i>Type the exact substring</i>\")"
      ]
     },
     "metadata": {},
     "output_type": "display_data"
    },
    {
     "data": {
      "application/vnd.jupyter.widget-view+json": {
       "model_id": "efe154b36ced488fbeff921a96686966",
       "version_major": 2,
       "version_minor": 0
      },
      "text/plain": [
       "Text(value='', placeholder='e.g., Java')"
      ]
     },
     "metadata": {},
     "output_type": "display_data"
    },
    {
     "data": {
      "application/vnd.jupyter.widget-view+json": {
       "model_id": "17e4f268520941b08dad6832982f320f",
       "version_major": 2,
       "version_minor": 0
      },
      "text/plain": [
       "HTML(value='<b>4. Which method converts a string to uppercase?</b><br><i>Type the method name</i>')"
      ]
     },
     "metadata": {},
     "output_type": "display_data"
    },
    {
     "data": {
      "application/vnd.jupyter.widget-view+json": {
       "model_id": "d2e6dd4689cb405e8c60fc9b3572ac19",
       "version_major": 2,
       "version_minor": 0
      },
      "text/plain": [
       "Text(value='', placeholder='e.g., toUpperCase()')"
      ]
     },
     "metadata": {},
     "output_type": "display_data"
    },
    {
     "data": {
      "application/vnd.jupyter.widget-view+json": {
       "model_id": "86c0501ca9e24b9782b6c0cd9ad1966f",
       "version_major": 2,
       "version_minor": 0
      },
      "text/plain": [
       "HTML(value='<b>5. String indexes start at 1 in JavaScript</b><br><i>Answer True or False</i>')"
      ]
     },
     "metadata": {},
     "output_type": "display_data"
    },
    {
     "data": {
      "application/vnd.jupyter.widget-view+json": {
       "model_id": "5f281626ff9148658450d5d227dbc153",
       "version_major": 2,
       "version_minor": 0
      },
      "text/plain": [
       "Text(value='', placeholder='True/False')"
      ]
     },
     "metadata": {},
     "output_type": "display_data"
    },
    {
     "data": {
      "application/vnd.jupyter.widget-view+json": {
       "model_id": "2803124fc39e46e8a69db17934977710",
       "version_major": 2,
       "version_minor": 0
      },
      "text/plain": [
       "HTML(value=\"<b>6. 'hello'.length returns 5</b><br><i>Answer True or False</i>\")"
      ]
     },
     "metadata": {},
     "output_type": "display_data"
    },
    {
     "data": {
      "application/vnd.jupyter.widget-view+json": {
       "model_id": "10c660c9923845bf9938d05ac635b0f5",
       "version_major": 2,
       "version_minor": 0
      },
      "text/plain": [
       "Text(value='', placeholder='True/False')"
      ]
     },
     "metadata": {},
     "output_type": "display_data"
    },
    {
     "data": {
      "application/vnd.jupyter.widget-view+json": {
       "model_id": "ec0d7aa8120841399bbacc95dbe02661",
       "version_major": 2,
       "version_minor": 0
      },
      "text/plain": [
       "HTML(value=\"<b>7. In Python, what does 'hello'[1:4] return?</b><br><i>Type the exact substring</i>\")"
      ]
     },
     "metadata": {},
     "output_type": "display_data"
    },
    {
     "data": {
      "application/vnd.jupyter.widget-view+json": {
       "model_id": "f9261f6d03ad462190dfb4fd5a404bc2",
       "version_major": 2,
       "version_minor": 0
      },
      "text/plain": [
       "Text(value='', placeholder='e.g., ell')"
      ]
     },
     "metadata": {},
     "output_type": "display_data"
    },
    {
     "data": {
      "application/vnd.jupyter.widget-view+json": {
       "model_id": "2fc952824b2c4e6c9c2c1f0c0c82e97c",
       "version_major": 2,
       "version_minor": 0
      },
      "text/plain": [
       "Button(button_style='success', description='Check Answers', icon='check', style=ButtonStyle())"
      ]
     },
     "metadata": {},
     "output_type": "display_data"
    },
    {
     "data": {
      "application/vnd.jupyter.widget-view+json": {
       "model_id": "2fc9ce7315654470b8fdae09b29e4c8e",
       "version_major": 2,
       "version_minor": 0
      },
      "text/plain": [
       "Output()"
      ]
     },
     "metadata": {},
     "output_type": "display_data"
    }
   ],
   "source": [
    "# Interactive Free-Response Quiz (replacing multiple choice)\n",
    "from IPython.display import display, HTML, Javascript\n",
    "import ipywidgets as widgets\n",
    "\n",
    "print(\"🎯 JavaScript String Basics - Free-Response Quiz\")\n",
    "print(\"Type your answers below and click Check Answers.\\n\")\n",
    "\n",
    "# Question 1\n",
    "q1_label = widgets.HTML(\"<b>1. In JavaScript, which property is used to get the length of a string?</b><br><i>Answer with the property name (e.g., length or string.length)</i>\")\n",
    "q1_input = widgets.Text(placeholder=\"e.g., length or string.length\")\n",
    "\n",
    "# Question 2\n",
    "q2_label = widgets.HTML(\"<b>2. Which expression can concatenate two strings?</b><br><i>Type the expression or operator (e.g., \\\"Hello\\\" + \\\"World\\\" or +)</i>\")\n",
    "q2_input = widgets.Text(placeholder='e.g., \"Hello\" + \"World\" or +')\n",
    "\n",
    "# Question 3\n",
    "q3_label = widgets.HTML(\"<b>3. What does 'JavaScript'.substring(0, 4) return?</b><br><i>Type the exact substring</i>\")\n",
    "q3_input = widgets.Text(placeholder='e.g., Java')\n",
    "\n",
    "# Question 4\n",
    "q4_label = widgets.HTML(\"<b>4. Which method converts a string to uppercase?</b><br><i>Type the method name</i>\")\n",
    "q4_input = widgets.Text(placeholder='e.g., toUpperCase()')\n",
    "\n",
    "# True/False Questions\n",
    "q5_label = widgets.HTML(\"<b>5. String indexes start at 1 in JavaScript</b><br><i>Answer True or False</i>\")\n",
    "q5_input = widgets.Text(placeholder='True/False')\n",
    "\n",
    "q6_label = widgets.HTML(\"<b>6. 'hello'.length returns 5</b><br><i>Answer True or False</i>\")\n",
    "q6_input = widgets.Text(placeholder='True/False')\n",
    "\n",
    "# Python Question\n",
    "q7_label = widgets.HTML(\"<b>7. In Python, what does 'hello'[1:4] return?</b><br><i>Type the exact substring</i>\")\n",
    "q7_input = widgets.Text(placeholder='e.g., ell')\n",
    "\n",
    "# Submit Button\n",
    "submit_btn = widgets.Button(\n",
    "    description=\"Check Answers\",\n",
    "    button_style='success',\n",
    "    icon='check'\n",
    ")\n",
    "\n",
    "output = widgets.Output()\n",
    "\n",
    "# Helper functions for tolerant checking\n",
    "\n",
    "def clean_token(s: str) -> str:\n",
    "    s = s.strip().lower()\n",
    "    s = s.strip('`')\n",
    "    if s.endswith('()'):\n",
    "        s = s[:-2]\n",
    "    return s\n",
    "\n",
    "\n",
    "def strip_quotes_spaces(s: str) -> str:\n",
    "    return s.replace('\"', '').replace(\"'\", '').replace(' ', '').strip().lower()\n",
    "\n",
    "\n",
    "def parse_bool_like(s: str):\n",
    "    v = s.strip().lower()\n",
    "    if v in {'true', 't', 'yes', 'y', '1'}:\n",
    "        return True\n",
    "    if v in {'false', 'f', 'no', 'n', '0'}:\n",
    "        return False\n",
    "    return None\n",
    "\n",
    "\n",
    "def check_answers(btn):\n",
    "    with output:\n",
    "        output.clear_output()\n",
    "        score = 0\n",
    "        total = 7\n",
    "\n",
    "        print(\"📊 QUIZ RESULTS\")\n",
    "        print(\"=\" * 40)\n",
    "\n",
    "        # Q1: length property\n",
    "        a1 = clean_token(q1_input.value)\n",
    "        if a1 == 'length' or a1.endswith('.length'):\n",
    "            score += 1\n",
    "            print(\"✅ Q1: CORRECT\")\n",
    "        else:\n",
    "            print(\"❌ Q1: INCORRECT - Expected: length (property)\")\n",
    "\n",
    "        # Q2: concatenation using +\n",
    "        raw2 = q2_input.value\n",
    "        a2_clean = strip_quotes_spaces(raw2)\n",
    "        if ('+' in raw2) or ('plus' in raw2.lower()) or (a2_clean == 'hello+world'):\n",
    "            score += 1\n",
    "            print(\"✅ Q2: CORRECT\")\n",
    "        else:\n",
    "            print(\"❌ Q2: INCORRECT - Example: \\\"Hello\\\" + \\\"World\\\" (use +)\")\n",
    "\n",
    "        # Q3: substring(0,4) -> \"Java\"\n",
    "        a3 = q3_input.value.strip().strip('\"').strip(\"'\")\n",
    "        if a3.lower() == 'java':\n",
    "            score += 1\n",
    "            print(\"✅ Q3: CORRECT\")\n",
    "        else:\n",
    "            print(\"❌ Q3: INCORRECT - Correct: Java\")\n",
    "\n",
    "        # Q4: toUpperCase()\n",
    "        a4 = clean_token(q4_input.value).replace('_', '')\n",
    "        if a4 == 'touppercase':\n",
    "            score += 1\n",
    "            print(\"✅ Q4: CORRECT\")\n",
    "        else:\n",
    "            print(\"❌ Q4: INCORRECT - Correct: toUpperCase()\")\n",
    "\n",
    "        # Q5: False (indexes start at 0)\n",
    "        a5 = parse_bool_like(q5_input.value)\n",
    "        if a5 is None:\n",
    "            print(\"⚠️ Q5: Could not parse. Please answer True/False.\")\n",
    "        elif a5 is False:\n",
    "            score += 1\n",
    "            print(\"✅ Q5: CORRECT\")\n",
    "        else:\n",
    "            print(\"❌ Q5: INCORRECT - Correct: False (indexes start at 0)\")\n",
    "\n",
    "        # Q6: True ('hello'.length == 5)\n",
    "        a6 = parse_bool_like(q6_input.value)\n",
    "        if a6 is None:\n",
    "            print(\"⚠️ Q6: Could not parse. Please answer True/False.\")\n",
    "        elif a6 is True:\n",
    "            score += 1\n",
    "            print(\"✅ Q6: CORRECT\")\n",
    "        else:\n",
    "            print(\"❌ Q6: INCORRECT - Correct: True\")\n",
    "\n",
    "        # Q7: Python slice 'hello'[1:4] -> \"ell\"\n",
    "        a7 = q7_input.value.strip().strip('\"').strip(\"'\")\n",
    "        if a7 == 'ell':\n",
    "            score += 1\n",
    "            print(\"✅ Q7: CORRECT\")\n",
    "        else:\n",
    "            print(\"❌ Q7: INCORRECT - Correct: ell\")\n",
    "\n",
    "        print(\"=\" * 40)\n",
    "        print(f\"🎯 Your Score: {score}/{total}\")\n",
    "        print(f\"📈 Percentage: {score/total*100:.1f}%\")\n",
    "\n",
    "        # Persist a completion flag to localStorage (optional)\n",
    "        try:\n",
    "            display(Javascript(\"\"\"localStorage.setItem('csp34_hw_quiz_tried','true');\"\"\"))\n",
    "        except Exception:\n",
    "            pass\n",
    "\n",
    "\n",
    "submit_btn.on_click(check_answers)\n",
    "\n",
    "# Display all questions and inputs\n",
    "display(\n",
    "    q1_label, q1_input,\n",
    "    q2_label, q2_input,\n",
    "    q3_label, q3_input,\n",
    "    q4_label, q4_input,\n",
    "    q5_label, q5_input,\n",
    "    q6_label, q6_input,\n",
    "    q7_label, q7_input,\n",
    "    submit_btn, output,\n",
    ")"
   ]
  }
 ],
 "metadata": {
  "kernelspec": {
   "display_name": "Python 3",
   "language": "python",
   "name": "python3"
  },
  "language_info": {
   "codemirror_mode": {
    "name": "ipython",
    "version": 3
   },
   "file_extension": ".py",
   "mimetype": "text/x-python",
   "name": "python",
   "nbconvert_exporter": "python",
   "pygments_lexer": "ipython3",
   "version": "3.12.5"
  }
 },
 "nbformat": 4,
 "nbformat_minor": 5
}
